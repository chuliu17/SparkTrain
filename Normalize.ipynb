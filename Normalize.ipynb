{
 "cells": [
  {
   "cell_type": "code",
   "execution_count": 1,
   "id": "cc10f9ce",
   "metadata": {},
   "outputs": [],
   "source": [
    "import csv\n",
    "import numpy as np\n",
    "import pandas as pd\n",
    "\n"
   ]
  },
  {
   "cell_type": "code",
   "execution_count": 4,
   "id": "143043f4",
   "metadata": {},
   "outputs": [
    {
     "name": "stdout",
     "output_type": "stream",
     "text": [
      "meanTempogram\n",
      "stdTempogram\n",
      "varTempogram\n",
      "meanMFCC_1\n",
      "stdMFCC_1\n",
      "varMFCC_1\n",
      "meanMFCC_2\n",
      "stdMFCC_2\n",
      "varMFCC_2\n",
      "meanMFCC_3\n",
      "stdMFCC_3\n",
      "varMFCC_3\n",
      "meanMFCC_4\n",
      "stdMFCC_4\n",
      "varMFCC_4\n",
      "meanMFCC_5\n",
      "stdMFCC_5\n",
      "varMFCC_5\n",
      "meanMFCC_6\n",
      "stdMFCC_6\n",
      "varMFCC_6\n",
      "meanMFCC_7\n",
      "stdMFCC_7\n",
      "varMFCC_7\n",
      "meanMFCC_8\n",
      "stdMFCC_8\n",
      "varMFCC_8\n",
      "meanMFCC_9\n",
      "stdMFCC_9\n",
      "varMFCC_9\n",
      "meanMFCC_10\n",
      "stdMFCC_10\n",
      "varMFCC_10\n",
      "meanMFCC_11\n",
      "stdMFCC_11\n",
      "varMFCC_11\n",
      "meanMFCC_12\n",
      "stdMFCC_12\n",
      "varMFCC_12\n",
      "meanMFCC_13\n",
      "stdMFCC_13\n",
      "varMFCC_13\n",
      "meanSpectralCentroid\n",
      "stdSpectralCentroid\n",
      "varSpectralCentroid\n",
      "meanZeroCrossingRate\n",
      "stdZeroCrossingRate\n",
      "varZeroCrossingRate\n",
      "meanChromaFrequencies\n",
      "stdChromaFrequencies\n",
      "varChromaFrequencies\n",
      "meanSpectralRollOff\n",
      "stdSpectralRollOff\n",
      "varSpectralRollOff\n",
      "meanSpectralBandwidth\n",
      "stdSpectralBandwidth\n",
      "varSpectralBandwidth\n",
      "meanSpectralContrast\n",
      "stdSpectralContrast\n",
      "varSpectralContrast\n",
      "meanSpectralFlatness\n",
      "stdSpectralFlatness\n",
      "varSpectralFlatness\n"
     ]
    }
   ],
   "source": [
    "#headers = ['genre', 'meanTempogram', 'stdTempogram', 'varTempogram', 'meanMFCC_1', 'stdMFCC_1', 'varMFCC_1', 'meanMFCC_2', 'stdMFCC_2', 'varMFCC_2', 'meanMFCC_3', 'stdMFCC_3', 'varMFCC_3', 'meanMFCC_4', 'stdMFCC_4', 'varMFCC_4', 'meanMFCC_5', 'stdMFCC_5', 'varMFCC_5', 'meanMFCC_6', 'stdMFCC_6', 'varMFCC_6', 'meanMFCC_7', 'stdMFCC_7', 'varMFCC_7', 'meanMFCC_8', 'stdMFCC_8', 'varMFCC_8', 'meanMFCC_9', 'stdMFCC_9', 'varMFCC_9', 'meanMFCC_10', 'stdMFCC_10', 'varMFCC_10', 'meanMFCC_11', 'stdMFCC_11', 'varMFCC_11', 'meanMFCC_12', 'stdMFCC_12', 'varMFCC_12', 'meanMFCC_13', 'stdMFCC_13', 'varMFCC_13', 'meanSpectralCentroid', 'stdSpectralCentroid', 'varSpectralCentroid', 'meanZeroCrossingRate', 'stdZeroCrossingRate', 'varZeroCrossingRate', 'meanChromaFrequencies', 'stdChromaFrequencies', 'varChromaFrequencies', 'meanSpectralRollOff', 'stdSpectralRollOff', 'varSpectralRollOff', 'meanSpectralBandwidth', 'stdSpectralBandwidth', 'varSpectralBandwidth', 'meanSpectralContrast', 'stdSpectralContrast', 'varSpectralContrast', 'meanSpectralFlatness', 'stdSpectralFlatness', 'varSpectralFlatness']\n",
    "csv_read = pd.read_csv(\"./dataset.csv\")\n",
    "\n",
    "for column in csv_read.columns[1:]:\n",
    "    print(column)\n",
    "    col_min = csv_read[column].min()\n",
    "    col_max = csv_read[column].max()\n",
    "    csv_read[column] = (csv_read[column] - col_min) / (col_max - col_min)    \n",
    "\n",
    "csv_read.to_csv(\"./normalized.csv\", index=False)"
   ]
  },
  {
   "cell_type": "code",
   "execution_count": null,
   "id": "7d048d6b",
   "metadata": {},
   "outputs": [],
   "source": []
  }
 ],
 "metadata": {
  "kernelspec": {
   "display_name": "conda_amazonei_mxnet_p36",
   "language": "python",
   "name": "conda_amazonei_mxnet_p36"
  },
  "language_info": {
   "codemirror_mode": {
    "name": "ipython",
    "version": 3
   },
   "file_extension": ".py",
   "mimetype": "text/x-python",
   "name": "python",
   "nbconvert_exporter": "python",
   "pygments_lexer": "ipython3",
   "version": "3.6.13"
  }
 },
 "nbformat": 4,
 "nbformat_minor": 5
}
